{
 "cells": [
  {
   "attachments": {},
   "cell_type": "markdown",
   "id": "9bd5fdf9",
   "metadata": {},
   "source": [
    "This code use's Genius's API to write and artist's lyrics to a txt file. \n",
    "Source: https://huggingface.co/datasets/Cropinky/rap_lyrics_english/blob/main/genius.py"
   ]
  },
  {
   "cell_type": "code",
<<<<<<< HEAD
   "execution_count": 1,
=======
   "execution_count": 12,
>>>>>>> bbf6c0882e3410253b8b7bdcaab66ced1ade26d7
   "id": "02ca3448",
   "metadata": {},
   "outputs": [
    {
     "name": "stdout",
     "output_type": "stream",
     "text": [
      "Searching for songs by Tyler The Creator...\n",
      "\n",
      "Changing artist name to 'Tyler, The Creator'\n",
      "Song 1: \"Yonkers\"\n",
      "Song 2: \"EARFQUAKE\"\n",
      "Song 3: \"See You Again\"\n",
      "Song 4: \"NEW MAGIC WAND\"\n",
      "Song 5: \"IFHY\"\n",
      "\n",
      "Reached user-specified song limit (5).\n",
      "Done. Found 5 songs.\n",
      "Creating directory for Tyler, The Creator\n",
      "Done with Tyler The Creator\n"
     ]
    }
   ],
   "source": [
    "import os\n",
    "from pathlib import Path\n",
    "from unicodedata import name\n",
    "import lyricsgenius\n",
    "import sys\n",
    "\"\"\"\n",
    "the data folder contains txt files with rapper's names, the songs folder contains all of the songs from a single group of artists\n",
    "wutang.txt (10 members) - > wutang.txt 1 files with all of their songs.\n",
    "\"\"\"\n",
    "\n",
    "#TODO: mulithreaded implemetation\n",
    "class Genius:\n",
    "    def __init__(self, client_access_token, timeout, retries, songs_foldername = 'songs'):\n",
    "        self.songs_foldername = songs_foldername\n",
    "        self._api_ = lyricsgenius.Genius(client_access_token, timeout=timeout, retries=retries)\n",
    "    \n",
    "    def scrape_artist(self, artist_name: str):\n",
    "        artist = self._api_.search_artist(artist_name,max_songs=5)\n",
    "        print(f\"Creating directory for {artist.name.strip()}\")\n",
    "        artist_folder = Path(self.songs_foldername, artist.name.strip())\n",
    "        artist_folder.mkdir(parents=True, exist_ok=True)\n",
    "        \n",
    "        for song in artist.songs:\n",
    "            song_file = Path(artist_folder, song.title.strip() + '.txt')\n",
    "            with open(song_file, 'w') as f:\n",
    "                f.write(song.lyrics)\n",
    "        \n",
    "        print(f\"Done with {artist_name}\")\n",
    "\n",
    "#it loads rapper's names from the filename and then downloads all of their songs\n",
    "filename = 'tylerthecreator.txt'\n",
    "songs_folder = Path('songs', filename[:-4])\n",
    "genius = Genius('LpXWr5UGRC1RbZAwnialV4Zy17xOzceeHy2kDT9dPj-pDqmHCQdhrGoiKBLmqW5Y', songs_foldername = songs_folder, timeout = 15, retries = 30)\n",
    "try:\n",
    "    os.makedirs(songs_folder)\n",
    "except:\n",
    "    pass #folder already exists irrelevant error tbh\n",
    "with open(Path('Data', filename)) as f:\n",
    "    for rapper in [line.strip() for line in f.readlines()]:\n",
    "        genius.scrape_artist(rapper)"
   ]
  },
  {
   "cell_type": "code",
   "execution_count": null,
   "id": "5e04dcf0",
   "metadata": {},
   "outputs": [],
   "source": []
  }
 ],
 "metadata": {
  "kernelspec": {
   "display_name": "Python 3",
   "language": "python",
   "name": "python3"
  },
  "language_info": {
   "codemirror_mode": {
    "name": "ipython",
    "version": 3
   },
   "file_extension": ".py",
   "mimetype": "text/x-python",
   "name": "python",
   "nbconvert_exporter": "python",
   "pygments_lexer": "ipython3",
   "version": "3.8.13"
  }
 },
 "nbformat": 4,
 "nbformat_minor": 5
}
