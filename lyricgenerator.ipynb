{
 "cells": [
  {
   "attachments": {},
   "cell_type": "markdown",
   "id": "665f422c",
   "metadata": {},
   "source": []
  },
  {
   "attachments": {},
   "cell_type": "markdown",
   "id": "20229c91",
   "metadata": {},
   "source": [
    "In this code block, we load all of the txt files that we imported from Genius's API and create a csv file using the Pandas library"
   ]
  },
  {
   "cell_type": "code",
   "execution_count": null,
   "id": "5ba9afe1",
   "metadata": {},
   "outputs": [],
   "source": [
    "import os\n",
    "import pandas as pd\n",
    "\n",
    "# Set the directory where the text files are located\n",
    "directory = \"songs\"\n",
    "\n",
    "# Create an empty DataFrame to store the data\n",
    "dataframe = pd.DataFrame(columns=[\"Artist\", \"Lyrics\"])\n",
    "\n",
    "# Loop through each file in the directory\n",
    "for filename in os.listdir(directory):\n",
    "    if filename.endswith(\".txt\"):\n",
    "        # Read the text file into a string\n",
    "        with open(os.path.join(directory, filename), \"r\") as file:\n",
    "            lyrics = file.read()\n",
    "\n",
    "        # Get the artist name from the filename\n",
    "        artist = os.path.splitext(filename)[0]\n",
    "\n",
    "        # Add the data to the DataFrame\n",
    "        dataframe = dataframe.append({\"Artist\": artist, \"Lyrics\": lyrics}, ignore_index=True)\n",
    "\n",
    "# Export the DataFrame to a CSV file\n",
    "dataframe.to_csv(\"lyrics.csv\", index=False)\n"
   ]
  }
 ],
 "metadata": {
  "kernelspec": {
   "display_name": "Python 3",
   "language": "python",
   "name": "python3"
  },
  "language_info": {
   "codemirror_mode": {
    "name": "ipython",
    "version": 3
   },
   "file_extension": ".py",
   "mimetype": "text/x-python",
   "name": "python",
   "nbconvert_exporter": "python",
   "pygments_lexer": "ipython3",
   "version": "3.9.10"
  },
  "vscode": {
   "interpreter": {
    "hash": "7a56ab0802a9f8dff423d90067d6d7134d68682fb43c017439decf42f84c36d7"
   }
  }
 },
 "nbformat": 4,
 "nbformat_minor": 5
}
