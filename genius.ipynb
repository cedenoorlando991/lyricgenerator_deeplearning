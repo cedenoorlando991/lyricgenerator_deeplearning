{
 "cells": [
  {
   "attachments": {},
   "cell_type": "markdown",
   "id": "9bd5fdf9",
   "metadata": {},
   "source": [
    "This code use's Genius's API to write and artist's lyrics to a txt file. \n",
    "Source: https://huggingface.co/datasets/Cropinky/rap_lyrics_english/blob/main/genius.py"
   ]
  },
  {
   "cell_type": "code",
   "execution_count": null,
   "id": "02ca3448",
   "metadata": {},
   "outputs": [],
   "source": [
    "import os\n",
    "from pathlib import Path\n",
    "from unicodedata import name\n",
    "import lyricsgenius\n",
    "import sys\n",
    "\"\"\"\n",
    "the data folder contains txt files with rapper's names, the songs folder contains all of the songs from a single group of artists\n",
    "wutang.txt (10 members) - > wutang.txt 1 files with all of their songs.\n",
    "\"\"\"\n",
    "\n",
    "#TODO: mulithreaded implemetation\n",
    "class Genius:\n",
    "    def __init__(self, client_access_token, timeout, retries, songs_foldername = 'songs'):\n",
    "        self.songs_foldername = songs_foldername\n",
    "        self._api_ = lyricsgenius.Genius(client_access_token, timeout=timeout, retries=retries)\n",
    "    def scrape_artist(self, artist_name: str):\n",
    "        #you can pass a max_songs (or smth like that) parameter here to stop downloading songs after a certain number\n",
    "        artist = self._api_.search_artist(artist_name,max_songs=45)\n",
    "        print(f\"stvaram file {artist.name.strip()}\")\n",
    "        f = open(Path(self.songs_foldername, f'{artist.name.strip()}.txt'), 'w')  \n",
    "        for song in artist.songs:\n",
    "            f.write(\"\\n\" + '*'*50 + \"\\n\")\n",
    "            f.write(song.title)\n",
    "            f.write(song.lyrics)\n",
    "        f.close()\n",
    "        print(f\"done with {artist_name}\")\n",
    "\n",
    "#it loads rapper's names from the filename and then downloads all of their songs\n",
    "filename = 'tylerthecreator.txt'\n",
    "songs_folder = Path('songs', filename[:-4])\n",
    "genius = Genius('LpXWr5UGRC1RbZAwnialV4Zy17xOzceeHy2kDT9dPj-pDqmHCQdhrGoiKBLmqW5Y', songs_foldername = songs_folder, timeout = 15, retries = 30)\n",
    "try:\n",
    "    os.makedirs(songs_folder)\n",
    "except:\n",
    "    pass #folder already exists irrelevant error tbh\n",
    "with open(Path('Data', filename)) as f:\n",
    "    for rapper in [line.strip() for line in f.readlines()]:\n",
    "        genius.scrape_artist(rapper)"
   ]
  },
  {
   "cell_type": "code",
   "execution_count": null,
   "id": "5e04dcf0",
   "metadata": {},
   "outputs": [],
   "source": []
  }
 ],
 "metadata": {
  "kernelspec": {
   "display_name": "Python 3 (ipykernel)",
   "language": "python",
   "name": "python3"
  },
  "language_info": {
   "codemirror_mode": {
    "name": "ipython",
    "version": 3
   },
   "file_extension": ".py",
   "mimetype": "text/x-python",
   "name": "python",
   "nbconvert_exporter": "python",
   "pygments_lexer": "ipython3",
   "version": "3.9.10"
  }
 },
 "nbformat": 4,
 "nbformat_minor": 5
}
