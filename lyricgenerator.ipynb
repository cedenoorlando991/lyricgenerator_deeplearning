{
 "cells": [
  {
   "attachments": {},
   "cell_type": "markdown",
   "id": "665f422c",
   "metadata": {},
   "source": [
    "Here is where we will manage all of our imports"
   ]
  }
 ],
 "metadata": {
  "kernelspec": {
   "display_name": "Python 3",
   "language": "python",
   "name": "python3"
  },
  "language_info": {
   "codemirror_mode": {
    "name": "ipython",
    "version": 3
   },
   "file_extension": ".py",
   "mimetype": "text/x-python",
   "name": "python",
   "nbconvert_exporter": "python",
   "pygments_lexer": "ipython3",
   "version": "3.9.10"
  },
  "vscode": {
   "interpreter": {
    "hash": "7a56ab0802a9f8dff423d90067d6d7134d68682fb43c017439decf42f84c36d7"
   }
  }
 },
 "nbformat": 4,
 "nbformat_minor": 5
}
