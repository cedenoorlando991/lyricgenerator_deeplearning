{
 "cells": [
  {
   "attachments": {},
   "cell_type": "markdown",
   "id": "665f422c",
   "metadata": {},
   "source": []
  },
  {
   "attachments": {},
   "cell_type": "markdown",
   "id": "20229c91",
   "metadata": {},
   "source": [
    "In this code block, we load all of the txt files that we imported from Genius's API and create a csv file using the Pandas library"
   ]
  },
  {
   "cell_type": "code",
   "execution_count": 33,
   "id": "5ba9afe1",
   "metadata": {},
   "outputs": [],
   "source": [
    "import os\n",
    "import pandas as pd\n",
    "\n",
    "# Set the directory where the text files are located\n",
    "directory = \"songs\"\n",
    "\n",
    "# Create an empty DataFrame to store the data\n",
    "dataframe = pd.DataFrame(columns=[\"Artist\", \"Lyrics\"])\n",
    "\n",
    "# Loop through each file in the directory\n",
    "for filename in os.listdir(directory):\n",
    "    if filename.endswith(\".txt\"):\n",
    "        # Read the text file into a string\n",
    "        with open(os.path.join(directory, filename), \"r\") as file:\n",
    "            lyrics = file.read()\n",
    "\n",
    "        # Get the artist name from the filename\n",
    "        artist = os.path.splitext(filename)[0]\n",
    "\n",
    "        # Add the data to the DataFrame\n",
    "        dataframe = dataframe.append({\"Artist\": artist, \"Lyrics\": lyrics}, ignore_index=True)\n",
    "\n",
    "# Export the DataFrame to a CSV file\n",
    "dataframe.to_csv(\"lyrics1.csv\", index=False)\n"
   ]
  },
  {
   "cell_type": "code",
   "execution_count": 32,
   "id": "6965f2a3",
   "metadata": {},
   "outputs": [
    {
     "name": "stdout",
     "output_type": "stream",
     "text": [
      "\n",
      "**************************************************\n",
      "freestyletranslationstürkçefreestyle \n",
      "\n",
      "**************************************************\n",
      "mercytranslationsportuguêsitalianoenglishespañolmercy \n",
      "nan\n",
      "\n",
      "**************************************************\n",
      "xo tour llif3translationsрусскийportuguêsitalianoxo tour llif3 \n",
      "\n",
      "**************************************************\n",
      "god’s plantranslationsрусскийtürkçeespañolpolskiitalianodeutschfrançaisazərbaycanca / آذربايجانgod’s plan \n",
      "\n",
      "**************************************************\n",
      "fuck the world (summer in london)translationsportuguêstürkçefuck the world (summer in london) \n",
      "\n",
      "**************************************************\n",
      "love metranslationsfrançaislove me \n",
      "\n",
      "**************************************************\n",
      "all too well (10 minute version) (taylor’s version) [from the vault]translationsespañolbosanskiрусскийportuguêsnorsk (bokmål / riksmål)françaisفارسیnederlandsall too well (10 minute version) (taylor’s version) [from the vault] \n"
     ]
    },
    {
     "name": "stderr",
     "output_type": "stream",
     "text": [
      "[nltk_data] Downloading package stopwords to\n",
      "[nltk_data]     /Users/jarraomar/nltk_data...\n",
      "[nltk_data]   Package stopwords is already up-to-date!\n",
      "[nltk_data] Downloading package punkt to /Users/jarraomar/nltk_data...\n",
      "[nltk_data]   Package punkt is already up-to-date!\n"
     ]
    }
   ],
   "source": [
    "import pandas as pd\n",
    "import nltk\n",
    "from nltk.corpus import stopwords\n",
    "from nltk.tokenize import word_tokenize\n",
    "from nltk.stem import PorterStemmer\n",
    "\n",
    "# Load the data from the CSV file\n",
    "data = pd.read_csv(\"lyrics1.csv\")\n",
    "\n",
    "nltk.download('stopwords')\n",
    "nltk.download('punkt')\n",
    "\n",
    "# Create a list of stopwords to remove\n",
    "stop_words = set(stopwords.words(\"english\"))\n",
    "stop_words.add(\"verse\")\n",
    "# stop_words.add(\"lyric\")\n",
    "\n",
    "# Create a stemmer to use for word stemming\n",
    "stemmer = PorterStemmer()\n",
    "\n",
    "# Preprocess each lyric in the DataFrame\n",
    "for i, row in data.iterrows():\n",
    "#Convert the lyric to lowercase\n",
    "    lyric = str(row[\"Lyrics\"]).lower()\n",
    "    \n",
    "    split_lyric = lyric.split(\"lyric\", 1)\n",
    "    cleaned_lyric = split_lyric[0]\n",
    "    print(cleaned_lyric)\n",
    "\n",
    "    #Tokenize the lyric into words\n",
    "    words = word_tokenize(cleaned_lyric)\n",
    "\n",
    "    #Remove stop words and punctuation\n",
    "    filtered_words = [word for word in words if word.isalpha() and word not in stop_words]\n",
    "\n",
    "    #Stem each word\n",
    "    stemmed_words = [stemmer.stem(word) for word in filtered_words]\n",
    "\n",
    "    #Join the stemmed words back into a single string\n",
    "    preprocessed_lyric = \" \".join(stemmed_words)\n",
    "\n",
    "    #Replace the original lyric with the preprocessed lyric in the DataFrame\n",
    "    data.at[i, \"Lyrics\"] = preprocessed_lyric\n",
    "\n",
    "# Export the preprocessed DataFrame to a CSV file\n",
    "data.to_csv(\"preprocessed_lyrics.csv\", index=False)\n",
    "\n"
   ]
  },
  {
   "cell_type": "code",
   "execution_count": null,
   "id": "3e5abb47",
   "metadata": {},
   "outputs": [],
   "source": [
    "# Split the data into training and testing sets\n",
    "train_data, test_data = train_test_split(dataframe, test_size=0.2, random_state=42)\n",
    "\n",
    "# Export the training and testing sets to CSV files\n",
    "train_data.to_csv(\"train_lyrics.csv\", index=False)\n",
    "test_data.to_csv(\"test_lyrics.csv\", index=False)\n",
    "# Export the DataFrame to a CSV file\n",
    "dataframe.to_csv(\"lyrics.csv\", index=False)"
   ]
  }
 ],
 "metadata": {
  "kernelspec": {
   "display_name": "Python 3",
   "language": "python",
   "name": "python3"
  },
  "language_info": {
   "codemirror_mode": {
    "name": "ipython",
    "version": 3
   },
   "file_extension": ".py",
   "mimetype": "text/x-python",
   "name": "python",
   "nbconvert_exporter": "python",
   "pygments_lexer": "ipython3",
   "version": "3.8.13"
  },
  "vscode": {
   "interpreter": {
    "hash": "7a56ab0802a9f8dff423d90067d6d7134d68682fb43c017439decf42f84c36d7"
   }
  }
 },
 "nbformat": 4,
 "nbformat_minor": 5
}
